{
 "cells": [
  {
   "cell_type": "markdown",
   "id": "1d986c79",
   "metadata": {},
   "source": [
    "# DATASET"
   ]
  },
  {
   "cell_type": "markdown",
   "id": "e0f7199e",
   "metadata": {},
   "source": [
    "### Dataset about predict the mobile price based on some mobile features"
   ]
  },
  {
   "cell_type": "markdown",
   "id": "a80cbbc3",
   "metadata": {},
   "source": [
    "*  battery_power : Total energy a battery can store in one time measured in mAh\n",
    "*  blue : Has bluetooth or not\n",
    "*  clock_speed : speed at which microprocessor executes instructions\n",
    "*  dual_sim : Has dual sim support or not\n",
    "*  fc : Front Camera mega pixels\n",
    "*  four_g : Has 4G or not\n",
    "*  int_memory : Internal Memory in Gigabytes\n",
    "*  m_dep : Mobile Depth in cm\n",
    "*  mobile_wt : Weight of mobile phone\n",
    "*  n_cores : Number of cores of processor\n",
    "*  price_range : price range"
   ]
  },
  {
   "cell_type": "markdown",
   "id": "a34e3a43",
   "metadata": {},
   "source": [
    "# Import the libraries"
   ]
  },
  {
   "cell_type": "code",
   "execution_count": 1,
   "id": "85b768c8",
   "metadata": {},
   "outputs": [],
   "source": [
    "import numpy as np\n",
    "import pandas as pd\n",
    "import matplotlib.pyplot as plt\n",
    "import seaborn as sns"
   ]
  },
  {
   "cell_type": "markdown",
   "id": "819ca4e6",
   "metadata": {},
   "source": [
    "# Load the dataset\n"
   ]
  },
  {
   "cell_type": "code",
   "execution_count": null,
   "id": "6d28cab7",
   "metadata": {},
   "outputs": [],
   "source": []
  }
 ],
 "metadata": {
  "kernelspec": {
   "display_name": "Python 3 (ipykernel)",
   "language": "python",
   "name": "python3"
  },
  "language_info": {
   "codemirror_mode": {
    "name": "ipython",
    "version": 3
   },
   "file_extension": ".py",
   "mimetype": "text/x-python",
   "name": "python",
   "nbconvert_exporter": "python",
   "pygments_lexer": "ipython3",
   "version": "3.11.4"
  }
 },
 "nbformat": 4,
 "nbformat_minor": 5
}
